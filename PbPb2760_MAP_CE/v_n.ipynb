{
 "cells": [
  {
   "cell_type": "code",
   "execution_count": 1,
   "metadata": {},
   "outputs": [
    {
     "name": "stdout",
     "output_type": "stream",
     "text": [
      "Using idf = 0 : Grad\n",
      "SystemsInfo = \n",
      "{'Pb-Pb-2760': {'proj': 'Pb', 'targ': 'Pb', 'sqrts': 2760, 'run_id': 'production_500pts_Pb_Pb_2760', 'n_design': 500, 'n_validation': 100, 'design_remove_idx': [289, 483, 324, 326, 459, 429, 334, 462, 242, 341, 406, 440, 377, 123, 447], 'npc': 10, 'MAP_obs_file': 'main.dat'}}\n",
      "4835\n"
     ]
    }
   ],
   "source": [
    "import sys; import numpy as np; from collections.abc import Iterable\n",
    "\n",
    "# Input data format\n",
    "from calculations_file_format_single_event import return_result_dtype, Qn_species, Qn_diff_pT_cuts\n",
    "\n",
    "result_dtype = return_result_dtype('ALICE')\n",
    "data = np.fromfile('../../../../../2159949.results.dat', dtype=result_dtype)\n",
    "\n",
    "\n",
    "# Examining the input\n",
    "nev = len(data['ALICE'][:,0]['dNch_deta']) \n",
    "print(nev)\n",
    "#for i in range(4835): print (data['ALICE'][:,0]['dNch_deta'][i])\n",
    "#print (len(data['ALICE'][:,0]['flow'][i][1]))\n",
    "#for i in range(4835): print ( data['ALICE'][:,0]['flow'][i][1][1])\n",
    "#print((data['ALICE']['flow']['N'][0:4835, 0][4834]))\n",
    "#print((data['initial_entropy']))\n",
    "\n",
    "# Note: for 2.76 TeV file use \"1\" for viscous correction selection index in file format, for 5.02 file use \"0\""
   ]
  },
  {
   "cell_type": "code",
   "execution_count": 2,
   "metadata": {},
   "outputs": [],
   "source": [
    "# Define the bin edges and centers\n",
    "pT_bins = Qn_diff_pT_cuts\n",
    "mid_pT_bins=[(pT_bins[i]+pT_bins[i+1])/2. for i in range(0,len(pT_bins)-1)]\n",
    "#print((mid_pT_bins))\n",
    "\n",
    "# Pick out the pT-differential Qn array\n",
    "Qn_diff=data['d_flow_pid']\n",
    "\n",
    "# Pick out the pid tuples\n",
    "Qn_species_no_Ch=[tmp for tmp in Qn_species if tmp[0] != \"Ch\"]"
   ]
  },
  {
   "cell_type": "code",
   "execution_count": 3,
   "metadata": {},
   "outputs": [],
   "source": [
    "# Define jacobian function\n",
    "def integrated_jacobian(m, pT, etaCut):\n",
    "\n",
    "    m2=m*m\n",
    "    pT2=pT*pT\n",
    "    cosh2EtaCut=np.cosh(2*etaCut)\n",
    "    sinhEtaCut=np.sinh(etaCut)\n",
    "\n",
    "    return np.log((np.sqrt(2*m2 + pT2 + pT2*cosh2EtaCut) + np.sqrt(2)*pT*sinhEtaCut)/(np.sqrt(2*m2 + pT2 + pT2*cosh2EtaCut) - np.sqrt(2)*pT*sinhEtaCut))\n",
    "\n",
    "masses={\n",
    "'pion':0.138,\n",
    "'kaon':0.494,\n",
    "'proton':0.938,\n",
    "'Sigma':1.189,\n",
    "'Xi':1.318\n",
    "}"
   ]
  },
  {
   "cell_type": "code",
   "execution_count": 4,
   "metadata": {},
   "outputs": [],
   "source": [
    "# Set kinematic cuts\n",
    "pTminCut = .2\n",
    "pTmaxCut = 3\n",
    "etaCut = .8\n",
    "Qn_rap_range = 2"
   ]
  },
  {
   "cell_type": "code",
   "execution_count": 5,
   "metadata": {},
   "outputs": [],
   "source": [
    "# read in the pT-differential data\n",
    "# Create and fill arrays with Qn values in each pT bin\n",
    "\n",
    "# N_diff is the number of particles, Q2-4_diff are the pT-differential Q-vectors\n",
    "N_diff = np.zeros(nev); Q2_diff = np.zeros(nev, dtype=complex); Q3_diff = np.zeros(nev, dtype=complex); Q4_diff = np.zeros(nev, dtype=complex); \n",
    "\n",
    "# pt1-2_diff are the first and second pT moments using best approximation formula from the differential data\n",
    "pt1_diff = np.zeros(nev); pt2_diff = np.zeros(nev);\n",
    "\n",
    "for k in range(nev): # looping over events\n",
    "    Qn_ch = np.zeros(1,dtype=[('N', '<f8', 4), ('Qn', '<c16', (4,5))])\n",
    "    Q0 = np.zeros(len(mid_pT_bins))\n",
    "    for species, pid in Qn_species_no_Ch: # looping over charged particles\n",
    "        weight=1\n",
    "        if (species== 'Sigma'):\n",
    "            weight=2\n",
    "\n",
    "        for i, pT in enumerate(mid_pT_bins): # looping over the pT-differential bins\n",
    "            if (pT<pTminCut or pT>pTmaxCut):\n",
    "                continue\n",
    "            rapidity_to_pseudorapidity_jacobian=integrated_jacobian(masses[species],pT,etaCut)\n",
    "            n = Qn_diff[species]['N'][k][:,i]/Qn_rap_range*weight*rapidity_to_pseudorapidity_jacobian\n",
    "            Q0[i] += n[0] # used for the pT moment calculation\n",
    "            Qn_ch['N']+=n\n",
    "            Qn_ch['Qn']+=Qn_diff[species]['Qn'][k][:,i]/Qn_rap_range*weight*rapidity_to_pseudorapidity_jacobian\n",
    "\n",
    "    \n",
    "    # calculate the pT moments (not needed for vn calculation)\n",
    "    temp = np.array(mid_pT_bins)*Q0\n",
    "    pt1_diff[k] = np.sum(temp)\n",
    "    temp2 = (np.array(mid_pT_bins)**2.)*Q0\n",
    "    pt2_diff[k] = np.sum(temp2)\n",
    "\n",
    "    # enter final values in 1D arrays (not necessary step)\n",
    "    N_diff[k] = Qn_ch[0][0][0]\n",
    "    Q2_diff[k] = Qn_ch[0][1][0][1]\n",
    "    Q3_diff[k] = Qn_ch[0][1][0][2]\n",
    "    Q4_diff[k] = Qn_ch[0][1][0][3]"
   ]
  },
  {
   "cell_type": "code",
   "execution_count": 6,
   "metadata": {},
   "outputs": [],
   "source": [
    "# Sort the mean Qn event-arrays by the charged particle multiplicity in descending order\n",
    "N = np.zeros(nev); Q2 = np.zeros(nev, dtype=complex); Q3 = np.zeros(nev, dtype=complex); Q4 = np.zeros(nev, dtype=complex); Nch = np.zeros(nev)\n",
    "\n",
    "sort = np.array(sorted(range(nev), key = lambda x: data['ALICE'][:,0]['dNch_deta'][x], reverse=True))\n",
    "for i in range(nev):\n",
    "    \n",
    "        # You may use the pre-calculated, integrated Q-vectors read directly from the input data (pT[0.2, 5.0], eta [-0.8, 0.8])\n",
    "    Q2[i] = data['ALICE']['flow']['Qn'][0:nev, 0, 1][sort[i]]\n",
    "    Q3[i] = data['ALICE']['flow']['Qn'][0:nev, 0, 2][sort[i]]\n",
    "    Q4[i] = data['ALICE']['flow']['Qn'][0:nev, 0, 3][sort[i]]\n",
    "    N[i] = data['ALICE']['flow']['N'][0:nev, 0][sort[i]]\n",
    "    \n",
    "    Nch[i] = data['ALICE'][:,0]['dNch_deta'][sort[i]]\n",
    "    \n",
    "        # You may use the pT-differential Q-vectors calculated above (comment out one or the other or define new arrays)\n",
    "#     Q2[i] = Q2_diff[sort[i]]\n",
    "#     Q3[i] = Q3_diff[sort[i]]\n",
    "#     Q4[i] = Q4_diff[sort[i]]\n",
    "#     N[i] = N_diff[sort[i]]\n",
    "\n",
    "# check the sorted output \n",
    "#for i in range(4835): print (i,data['ALICE'][:,0]['dNch_deta'][i],sort[i],Nch[i],N[i],np.imag(Q2[i]))"
   ]
  },
  {
   "cell_type": "code",
   "execution_count": 23,
   "metadata": {},
   "outputs": [
    {
     "name": "stdout",
     "output_type": "stream",
     "text": [
      "[[0.0260681  0.04001761 0.0610649  0.07948272 0.09208927 0.09762898\n",
      "  0.09513653 0.08755548]\n",
      " [0.0196269  0.02136682 0.02451642 0.0267052  0.02802191 0.02852508\n",
      "  0.02507738 0.02042716]\n",
      " [0.01057413 0.01102294 0.01198493 0.01358768 0.01579122 0.01490675\n",
      "  0.0137972  0.01087185]]\n"
     ]
    }
   ],
   "source": [
    "# Calculate vn from Q-vectors and average over events in each centrality bin \n",
    "    # ALICE centrality bins\n",
    "cen = np.array([[0,5],[5,10],[10,20],[20,30],[30,40],[40,50],[50,60],[60,70]])\n",
    "    # event number bin thresholds\n",
    "index = (cen/100.*nev).astype(int)\n",
    "    # centrality bin centers\n",
    "cenM = np.mean(cen, axis=1)\n",
    "\n",
    "vn = np.zeros((3,len(cenM)))\n",
    "\n",
    "for i, (nl,nh) in enumerate(zip(index[:,0], index[:,1])):\n",
    "    x = N[nl:nh]; y2 = Q2[nl:nh]; y3 = Q3[nl:nh]; y4 = Q4[nl:nh]\n",
    "    w = x*(x-1.)\n",
    "    #z = np.zeros(len(w)) + 1   # for weights=1\n",
    "    cn2_2 = (np.abs(y2)**2 - x)/(x*(x-1.)); cn3_2 = (np.abs(y3)**2 - x)/w; cn4_2 = (np.abs(y4)**2 - x)/w\n",
    "    mean_2 = np.average(cn2_2, weights=w); mean_3 = np.average(cn3_2, weights=w); mean_4 = np.average(cn4_2, weights=w)\n",
    "    vn[0][i]=np.sqrt(mean_2); vn[1][i]=np.sqrt(mean_3); vn[2][i]=np.sqrt(mean_4)\n",
    "print (vn)\n"
   ]
  },
  {
   "cell_type": "code",
   "execution_count": 8,
   "metadata": {},
   "outputs": [
    {
     "name": "stdout",
     "output_type": "stream",
     "text": [
      "[0.0260818  0.03998705 0.06099836 0.07942781 0.09204212 0.09749039\n",
      " 0.09473762 0.08680448] [0.01961442 0.02138023 0.02448195 0.0266354  0.02794836 0.02842372] [0.01053117 0.0110012  0.01197978 0.01355683 0.01576401 0.01486102]\n"
     ]
    }
   ],
   "source": [
    "print(vn[0],vn[1][0:6],vn[2][0:6])"
   ]
  },
  {
   "cell_type": "code",
   "execution_count": 9,
   "metadata": {},
   "outputs": [],
   "source": [
    "# Saved vn points using pre-calculated (integrated) Qn's\n",
    "\n",
    "v2_int_0_2_5 = [0.0260818,  0.03998705, 0.06099836, 0.07942781, 0.09204212, 0.09749039, 0.09473762, 0.08680448]\n",
    "v3_int_0_2_5 = [0.01961442, 0.02138023, 0.02448195, 0.0266354,  0.02794836, 0.02842372]\n",
    "v4_int_0_2_5 = [0.01053117, 0.0110012,  0.01197978, 0.01355683, 0.01576401, 0.01486102]"
   ]
  },
  {
   "cell_type": "code",
   "execution_count": 10,
   "metadata": {},
   "outputs": [],
   "source": [
    "# Saved vn points using pT-differential Qn's and different cuts\n",
    "\n",
    "    # pT[0.2,5.0]\n",
    "v2_diff_0_2_5 = [0.02604322, 0.03971651, 0.06083989, 0.07942719, 0.09186207, 0.09729871, 0.09464777, 0.08653401]\n",
    "v3_diff_0_2_5 = [0.01918723, 0.02111484, 0.02424143, 0.02642065, 0.02781148, 0.02832639]\n",
    "v4_diff_0_2_5 = [0.01028639, 0.0105826,  0.01156041, 0.01308891, 0.01520858, 0.01482612]\n",
    "\n",
    "    # pT[0.2,3.0]\n",
    "v2_diff_0_2_3 = [0.02589301, 0.0395526,  0.06054579, 0.07908803, 0.09154204, 0.0970431, 0.09450147, 0.08646756]\n",
    "v3_diff_0_2_3 = [0.01898004, 0.02090548, 0.02403497, 0.02623275, 0.02765071, 0.02823205]\n",
    "v4_diff_0_2_3 = [0.01005397, 0.01040735, 0.0113768,  0.0129134,  0.01503514, 0.01471309]\n"
   ]
  },
  {
   "cell_type": "code",
   "execution_count": 13,
   "metadata": {},
   "outputs": [
    {
     "data": {
      "image/png": "[encoded data removed]",
      "text/plain": [
       "<matplotlib.figure.Figure at 0x2b1b2ca14b00>"
      ]
     },
     "metadata": {},
     "output_type": "display_data"
    }
   ],
   "source": [
    "import matplotlib.pyplot as plt\n",
    "\n",
    "v2_data = [.028389,.045659,.065509,.087069,.0990999,.104139,.102859,.09746]\n",
    "v3_data = [.02067,.02319,.02799,.030929,.03314,.03234]\n",
    "v4_data = [.011459,.012909,.01383,.015679,.01702,.016289]\n",
    "\n",
    "ax = plt.subplot(111)\n",
    "\n",
    "    # experimental data\n",
    "plt.plot(cenM,v2_data,'kv')\n",
    "plt.plot(cenM[0:6],v3_data,'kv')\n",
    "plt.plot(cenM[0:6],v4_data,'kv')\n",
    "\n",
    "    # pT-differential calculation using the cuts in this script\n",
    "# plt.plot(cenM,vn[0],'b', linewidth=2.5, label='$v_2$')\n",
    "# plt.plot(cenM[0:6],vn[1][0:6],'g', linewidth=2.5, label='$v_3$')\n",
    "# plt.plot(cenM[0:6],vn[2][0:6],'r', linewidth=2.5, label='$v_4$')\n",
    "\n",
    "    # pT-integrated calculation for [0.15,5 GeV] \n",
    "plt.plot(cenM,v2_int_0_2_5,'b', linewidth=.5, label='$v_{2,3,4}$ int 0.2<pT<5 Gev/C')\n",
    "plt.plot(cenM[0:6],v3_int_0_2_5,'b', linewidth=.5)\n",
    "plt.plot(cenM[0:6],v4_int_0_2_5,'b', linewidth=.5)\n",
    "\n",
    "    # pT-differential calculation for [0.15,5 GeV] \n",
    "plt.plot(cenM,v2_diff_0_2_5,'g', linewidth=.5, label='$v_{2,3,4}$ diff 0.2<pT<5 Gev/C')\n",
    "plt.plot(cenM[0:6],v3_diff_0_2_5,'g', linewidth=.5)\n",
    "plt.plot(cenM[0:6],v4_diff_0_2_5,'g', linewidth=.5)\n",
    "\n",
    "        # pT-differential calculation for [0.15,3 GeV] \n",
    "plt.plot(cenM,v2_diff_0_2_3,'r', linewidth=.5, label='$v_{2,3,4}$ diff 0.2<pT<3 Gev/C')\n",
    "plt.plot(cenM[0:6],v3_diff_0_2_3,'r', linewidth=.5)\n",
    "plt.plot(cenM[0:6],v4_diff_0_2_3,'r', linewidth=.5)\n",
    "\n",
    "plt.rcParams[\"figure.figsize\"] = [10,10]  #[3.5, 4] \n",
    "#ax.set_ylim(ymin=0, ymax=.12)\n",
    "plt.xlabel('Centrality %')\n",
    "plt.ylabel('$v_n${2}')\n",
    "ax.yaxis.set_ticks_position('both')\n",
    "#plt.yscale(\"log\")\n",
    "ax.legend(prop={'size': 15})\n",
    "plt.savefig('vn.png', bbox_inches='tight', dpi=300)\n",
    "plt.show()"
   ]
  },
  {
   "cell_type": "code",
   "execution_count": null,
   "metadata": {},
   "outputs": [],
   "source": []
  }
 ],
 "metadata": {
  "kernelspec": {
   "display_name": "Python 3",
   "language": "python",
   "name": "python3"
  },
  "language_info": {
   "codemirror_mode": {
    "name": "ipython",
    "version": 3
   },
   "file_extension": ".py",
   "mimetype": "text/x-python",
   "name": "python",
   "nbconvert_exporter": "python",
   "pygments_lexer": "ipython3",
   "version": "3.6.3"
  }
 },
 "nbformat": 4,
 "nbformat_minor": 2
}
